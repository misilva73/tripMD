{
 "cells": [
  {
   "cell_type": "markdown",
   "metadata": {},
   "source": [
    "# Analysis of manuevers in the UAH dataset based on inertial measurements\n",
    "\n",
    "## 1. Libraries and data import"
   ]
  },
  {
   "cell_type": "code",
   "execution_count": 13,
   "metadata": {},
   "outputs": [],
   "source": [
    "# import general packages\n",
    "import os\n",
    "import sys\n",
    "import pickle\n",
    "import pandas as pd\n",
    "import numpy as np\n",
    "import matplotlib.pyplot as plt\n",
    "import seaborn as sns\n",
    "\n",
    "# local code files\n",
    "FILE_DIR = os.getcwd()\n",
    "ROOT_DIR = os.path.abspath(os.path.join(FILE_DIR, os.pardir))\n",
    "sys.path.insert(0, os.path.join(ROOT_DIR, \"src\"))\n",
    "\n",
    "# turn-off warnings\n",
    "import warnings\n",
    "warnings.filterwarnings('ignore')"
   ]
  },
  {
   "cell_type": "code",
   "execution_count": 10,
   "metadata": {
    "jupyter": {
     "source_hidden": true
    }
   },
   "outputs": [],
   "source": [
    "lat_seq = [\n",
    "    [\n",
    "        -0.0175,\n",
    "        -0.0175,\n",
    "        -0.0285,\n",
    "        -0.0285,\n",
    "        -0.0515,\n",
    "        -0.0515,\n",
    "        -0.0375,\n",
    "        -0.0525,\n",
    "        -0.0645,\n",
    "        -0.0705,\n",
    "        -0.0360,\n",
    "        -0.0225,\n",
    "        -0.0305,\n",
    "        -0.0175,\n",
    "    ],\n",
    "    [\n",
    "        0.0035,\n",
    "        -0.0005,\n",
    "        -0.0245,\n",
    "        -0.0605,\n",
    "        -0.049,\n",
    "        -0.040,\n",
    "        -0.042,\n",
    "        -0.039,\n",
    "        -0.025,\n",
    "        -0.007,\n",
    "        -0.0045,\n",
    "    ],\n",
    "]\n",
    "lon_seq = [\n",
    "    [\n",
    "        -0.006,\n",
    "        -0.006,\n",
    "        -0.013,\n",
    "        -0.013,\n",
    "        -0.0075,\n",
    "        -0.0075,\n",
    "        -0.0045,\n",
    "        -0.004,\n",
    "        -0.0025,\n",
    "        -0.0075,\n",
    "        0.002,\n",
    "        0.003,\n",
    "        -0.005,\n",
    "        -0.0045,\n",
    "    ],\n",
    "    [\n",
    "        -0.037,\n",
    "        -0.023,\n",
    "        -0.016,\n",
    "        -0.013,\n",
    "        -0.008,\n",
    "        -0.004,\n",
    "        -0.0045,\n",
    "        -0.0125,\n",
    "        -0.016,\n",
    "        0.0,\n",
    "        0.0115,\n",
    "    ],\n",
    "]"
   ]
  },
  {
   "cell_type": "code",
   "execution_count": null,
   "metadata": {},
   "outputs": [],
   "source": []
  }
 ],
 "metadata": {
  "kernelspec": {
   "display_name": "Python 3",
   "language": "python",
   "name": "python3"
  },
  "language_info": {
   "codemirror_mode": {
    "name": "ipython",
    "version": 3
   },
   "file_extension": ".py",
   "mimetype": "text/x-python",
   "name": "python",
   "nbconvert_exporter": "python",
   "pygments_lexer": "ipython3",
   "version": "3.8.5"
  }
 },
 "nbformat": 4,
 "nbformat_minor": 4
}
